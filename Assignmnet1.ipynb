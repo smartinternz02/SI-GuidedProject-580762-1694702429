{
 "cells": [
  {
   "cell_type": "markdown",
   "metadata": {},
   "source": [
    "**ASSIGNMENT 1**"
   ]
  },
  {
   "cell_type": "markdown",
   "metadata": {},
   "source": [
    "***TASK 1***"
   ]
  },
  {
   "cell_type": "code",
   "execution_count": 1,
   "metadata": {},
   "outputs": [],
   "source": [
    "import pandas as pd\n",
    "import numpy as np"
   ]
  },
  {
   "cell_type": "code",
   "execution_count": 37,
   "metadata": {},
   "outputs": [
    {
     "data": {
      "text/html": [
       "<div>\n",
       "<style scoped>\n",
       "    .dataframe tbody tr th:only-of-type {\n",
       "        vertical-align: middle;\n",
       "    }\n",
       "\n",
       "    .dataframe tbody tr th {\n",
       "        vertical-align: top;\n",
       "    }\n",
       "\n",
       "    .dataframe thead th {\n",
       "        text-align: right;\n",
       "    }\n",
       "</style>\n",
       "<table border=\"1\" class=\"dataframe\">\n",
       "  <thead>\n",
       "    <tr style=\"text-align: right;\">\n",
       "      <th></th>\n",
       "      <th>0</th>\n",
       "      <th>1</th>\n",
       "      <th>2</th>\n",
       "      <th>3</th>\n",
       "    </tr>\n",
       "  </thead>\n",
       "  <tbody>\n",
       "    <tr>\n",
       "      <th>0</th>\n",
       "      <td>0.021816</td>\n",
       "      <td>-0.851024</td>\n",
       "      <td>-0.986893</td>\n",
       "      <td>-2.074193</td>\n",
       "    </tr>\n",
       "    <tr>\n",
       "      <th>1</th>\n",
       "      <td>0.070130</td>\n",
       "      <td>0.528570</td>\n",
       "      <td>0.836415</td>\n",
       "      <td>1.695050</td>\n",
       "    </tr>\n",
       "    <tr>\n",
       "      <th>2</th>\n",
       "      <td>-0.871839</td>\n",
       "      <td>1.753324</td>\n",
       "      <td>1.441566</td>\n",
       "      <td>-0.430205</td>\n",
       "    </tr>\n",
       "    <tr>\n",
       "      <th>3</th>\n",
       "      <td>-1.341458</td>\n",
       "      <td>0.035675</td>\n",
       "      <td>0.538033</td>\n",
       "      <td>0.246991</td>\n",
       "    </tr>\n",
       "  </tbody>\n",
       "</table>\n",
       "</div>"
      ],
      "text/plain": [
       "          0         1         2         3\n",
       "0  0.021816 -0.851024 -0.986893 -2.074193\n",
       "1  0.070130  0.528570  0.836415  1.695050\n",
       "2 -0.871839  1.753324  1.441566 -0.430205\n",
       "3 -1.341458  0.035675  0.538033  0.246991"
      ]
     },
     "execution_count": 37,
     "metadata": {},
     "output_type": "execute_result"
    }
   ],
   "source": [
    "df = pd.DataFrame(np.random.randn(4,4))\n",
    "df"
   ]
  },
  {
   "cell_type": "markdown",
   "metadata": {},
   "source": [
    "***TASK 2***"
   ]
  },
  {
   "cell_type": "code",
   "execution_count": 39,
   "metadata": {},
   "outputs": [
    {
     "name": "stdout",
     "output_type": "stream",
     "text": [
      "   Random value 1  Random value 2  Random value 3  Random value 4\n",
      "0        0.021816       -0.851024       -0.986893       -2.074193\n",
      "1        0.070130        0.528570        0.836415        1.695050\n",
      "2       -0.871839        1.753324        1.441566       -0.430205\n",
      "3       -1.341458        0.035675        0.538033        0.246991\n"
     ]
    }
   ],
   "source": [
    "new_column_names = {0: 'Random value 1',\n",
    "                    1: 'Random value 2',\n",
    "                    2: 'Random value 3',\n",
    "                    3: 'Random value 4'}\n",
    "\n",
    "df.rename(columns=new_column_names, inplace=True)\n",
    "\n"
   ]
  },
  {
   "cell_type": "code",
   "execution_count": 42,
   "metadata": {},
   "outputs": [
    {
     "data": {
      "text/html": [
       "<div>\n",
       "<style scoped>\n",
       "    .dataframe tbody tr th:only-of-type {\n",
       "        vertical-align: middle;\n",
       "    }\n",
       "\n",
       "    .dataframe tbody tr th {\n",
       "        vertical-align: top;\n",
       "    }\n",
       "\n",
       "    .dataframe thead th {\n",
       "        text-align: right;\n",
       "    }\n",
       "</style>\n",
       "<table border=\"1\" class=\"dataframe\">\n",
       "  <thead>\n",
       "    <tr style=\"text-align: right;\">\n",
       "      <th></th>\n",
       "      <th>Random value 1</th>\n",
       "      <th>Random value 2</th>\n",
       "      <th>Random value 3</th>\n",
       "      <th>Random value 4</th>\n",
       "    </tr>\n",
       "  </thead>\n",
       "  <tbody>\n",
       "    <tr>\n",
       "      <th>0</th>\n",
       "      <td>0.021816</td>\n",
       "      <td>-0.851024</td>\n",
       "      <td>-0.986893</td>\n",
       "      <td>-2.074193</td>\n",
       "    </tr>\n",
       "    <tr>\n",
       "      <th>1</th>\n",
       "      <td>0.070130</td>\n",
       "      <td>0.528570</td>\n",
       "      <td>0.836415</td>\n",
       "      <td>1.695050</td>\n",
       "    </tr>\n",
       "    <tr>\n",
       "      <th>2</th>\n",
       "      <td>-0.871839</td>\n",
       "      <td>1.753324</td>\n",
       "      <td>1.441566</td>\n",
       "      <td>-0.430205</td>\n",
       "    </tr>\n",
       "    <tr>\n",
       "      <th>3</th>\n",
       "      <td>-1.341458</td>\n",
       "      <td>0.035675</td>\n",
       "      <td>0.538033</td>\n",
       "      <td>0.246991</td>\n",
       "    </tr>\n",
       "  </tbody>\n",
       "</table>\n",
       "</div>"
      ],
      "text/plain": [
       "   Random value 1  Random value 2  Random value 3  Random value 4\n",
       "0        0.021816       -0.851024       -0.986893       -2.074193\n",
       "1        0.070130        0.528570        0.836415        1.695050\n",
       "2       -0.871839        1.753324        1.441566       -0.430205\n",
       "3       -1.341458        0.035675        0.538033        0.246991"
      ]
     },
     "execution_count": 42,
     "metadata": {},
     "output_type": "execute_result"
    }
   ],
   "source": [
    "df"
   ]
  },
  {
   "cell_type": "markdown",
   "metadata": {},
   "source": [
    "or"
   ]
  },
  {
   "cell_type": "code",
   "execution_count": 41,
   "metadata": {},
   "outputs": [
    {
     "data": {
      "text/html": [
       "<div>\n",
       "<style scoped>\n",
       "    .dataframe tbody tr th:only-of-type {\n",
       "        vertical-align: middle;\n",
       "    }\n",
       "\n",
       "    .dataframe tbody tr th {\n",
       "        vertical-align: top;\n",
       "    }\n",
       "\n",
       "    .dataframe thead th {\n",
       "        text-align: right;\n",
       "    }\n",
       "</style>\n",
       "<table border=\"1\" class=\"dataframe\">\n",
       "  <thead>\n",
       "    <tr style=\"text-align: right;\">\n",
       "      <th></th>\n",
       "      <th>Random value 1</th>\n",
       "      <th>Random value 2</th>\n",
       "      <th>Random value 3</th>\n",
       "      <th>Random value 4</th>\n",
       "    </tr>\n",
       "  </thead>\n",
       "  <tbody>\n",
       "    <tr>\n",
       "      <th>0</th>\n",
       "      <td>0.021816</td>\n",
       "      <td>-0.851024</td>\n",
       "      <td>-0.986893</td>\n",
       "      <td>-2.074193</td>\n",
       "    </tr>\n",
       "    <tr>\n",
       "      <th>1</th>\n",
       "      <td>0.070130</td>\n",
       "      <td>0.528570</td>\n",
       "      <td>0.836415</td>\n",
       "      <td>1.695050</td>\n",
       "    </tr>\n",
       "    <tr>\n",
       "      <th>2</th>\n",
       "      <td>-0.871839</td>\n",
       "      <td>1.753324</td>\n",
       "      <td>1.441566</td>\n",
       "      <td>-0.430205</td>\n",
       "    </tr>\n",
       "    <tr>\n",
       "      <th>3</th>\n",
       "      <td>-1.341458</td>\n",
       "      <td>0.035675</td>\n",
       "      <td>0.538033</td>\n",
       "      <td>0.246991</td>\n",
       "    </tr>\n",
       "  </tbody>\n",
       "</table>\n",
       "</div>"
      ],
      "text/plain": [
       "   Random value 1  Random value 2  Random value 3  Random value 4\n",
       "0        0.021816       -0.851024       -0.986893       -2.074193\n",
       "1        0.070130        0.528570        0.836415        1.695050\n",
       "2       -0.871839        1.753324        1.441566       -0.430205\n",
       "3       -1.341458        0.035675        0.538033        0.246991"
      ]
     },
     "execution_count": 41,
     "metadata": {},
     "output_type": "execute_result"
    }
   ],
   "source": [
    "df1 = df.set_axis(['Random value 1','Random value 2','Random value 3','Random value 4'],axis=1)\n",
    "df1"
   ]
  },
  {
   "cell_type": "markdown",
   "metadata": {},
   "source": [
    "***TASK 3***"
   ]
  },
  {
   "cell_type": "code",
   "execution_count": 45,
   "metadata": {},
   "outputs": [
    {
     "data": {
      "text/html": [
       "<div>\n",
       "<style scoped>\n",
       "    .dataframe tbody tr th:only-of-type {\n",
       "        vertical-align: middle;\n",
       "    }\n",
       "\n",
       "    .dataframe tbody tr th {\n",
       "        vertical-align: top;\n",
       "    }\n",
       "\n",
       "    .dataframe thead th {\n",
       "        text-align: right;\n",
       "    }\n",
       "</style>\n",
       "<table border=\"1\" class=\"dataframe\">\n",
       "  <thead>\n",
       "    <tr style=\"text-align: right;\">\n",
       "      <th></th>\n",
       "      <th>Random value 1</th>\n",
       "      <th>Random value 2</th>\n",
       "      <th>Random value 3</th>\n",
       "      <th>Random value 4</th>\n",
       "    </tr>\n",
       "  </thead>\n",
       "  <tbody>\n",
       "    <tr>\n",
       "      <th>count</th>\n",
       "      <td>4.000000</td>\n",
       "      <td>4.000000</td>\n",
       "      <td>4.000000</td>\n",
       "      <td>4.000000</td>\n",
       "    </tr>\n",
       "    <tr>\n",
       "      <th>mean</th>\n",
       "      <td>-0.530337</td>\n",
       "      <td>0.366636</td>\n",
       "      <td>0.457280</td>\n",
       "      <td>-0.140589</td>\n",
       "    </tr>\n",
       "    <tr>\n",
       "      <th>std</th>\n",
       "      <td>0.692814</td>\n",
       "      <td>1.086486</td>\n",
       "      <td>1.033557</td>\n",
       "      <td>1.564448</td>\n",
       "    </tr>\n",
       "    <tr>\n",
       "      <th>min</th>\n",
       "      <td>-1.341458</td>\n",
       "      <td>-0.851024</td>\n",
       "      <td>-0.986893</td>\n",
       "      <td>-2.074193</td>\n",
       "    </tr>\n",
       "    <tr>\n",
       "      <th>25%</th>\n",
       "      <td>-0.989243</td>\n",
       "      <td>-0.186000</td>\n",
       "      <td>0.156802</td>\n",
       "      <td>-0.841202</td>\n",
       "    </tr>\n",
       "    <tr>\n",
       "      <th>50%</th>\n",
       "      <td>-0.425011</td>\n",
       "      <td>0.282122</td>\n",
       "      <td>0.687224</td>\n",
       "      <td>-0.091607</td>\n",
       "    </tr>\n",
       "    <tr>\n",
       "      <th>75%</th>\n",
       "      <td>0.033895</td>\n",
       "      <td>0.834758</td>\n",
       "      <td>0.987702</td>\n",
       "      <td>0.609006</td>\n",
       "    </tr>\n",
       "    <tr>\n",
       "      <th>max</th>\n",
       "      <td>0.070130</td>\n",
       "      <td>1.753324</td>\n",
       "      <td>1.441566</td>\n",
       "      <td>1.695050</td>\n",
       "    </tr>\n",
       "  </tbody>\n",
       "</table>\n",
       "</div>"
      ],
      "text/plain": [
       "       Random value 1  Random value 2  Random value 3  Random value 4\n",
       "count        4.000000        4.000000        4.000000        4.000000\n",
       "mean        -0.530337        0.366636        0.457280       -0.140589\n",
       "std          0.692814        1.086486        1.033557        1.564448\n",
       "min         -1.341458       -0.851024       -0.986893       -2.074193\n",
       "25%         -0.989243       -0.186000        0.156802       -0.841202\n",
       "50%         -0.425011        0.282122        0.687224       -0.091607\n",
       "75%          0.033895        0.834758        0.987702        0.609006\n",
       "max          0.070130        1.753324        1.441566        1.695050"
      ]
     },
     "execution_count": 45,
     "metadata": {},
     "output_type": "execute_result"
    }
   ],
   "source": [
    "df.describe()"
   ]
  },
  {
   "cell_type": "markdown",
   "metadata": {},
   "source": [
    "***TASK 4***"
   ]
  },
  {
   "cell_type": "code",
   "execution_count": 49,
   "metadata": {},
   "outputs": [
    {
     "data": {
      "text/plain": [
       "Random value 1    0\n",
       "Random value 2    0\n",
       "Random value 3    0\n",
       "Random value 4    0\n",
       "dtype: int64"
      ]
     },
     "execution_count": 49,
     "metadata": {},
     "output_type": "execute_result"
    }
   ],
   "source": [
    "# CHECKING THE NULL VALUES\n",
    "df.isnull().sum() # gives the sum of null values in each column\n"
   ]
  },
  {
   "cell_type": "code",
   "execution_count": 50,
   "metadata": {},
   "outputs": [
    {
     "data": {
      "text/plain": [
       "Random value 1    False\n",
       "Random value 2    False\n",
       "Random value 3    False\n",
       "Random value 4    False\n",
       "dtype: bool"
      ]
     },
     "execution_count": 50,
     "metadata": {},
     "output_type": "execute_result"
    }
   ],
   "source": [
    "df.isnull().any() # False if no values are null else True"
   ]
  },
  {
   "cell_type": "code",
   "execution_count": 51,
   "metadata": {},
   "outputs": [
    {
     "name": "stdout",
     "output_type": "stream",
     "text": [
      "<class 'pandas.core.frame.DataFrame'>\n",
      "RangeIndex: 4 entries, 0 to 3\n",
      "Data columns (total 4 columns):\n",
      " #   Column          Non-Null Count  Dtype  \n",
      "---  ------          --------------  -----  \n",
      " 0   Random value 1  4 non-null      float64\n",
      " 1   Random value 2  4 non-null      float64\n",
      " 2   Random value 3  4 non-null      float64\n",
      " 3   Random value 4  4 non-null      float64\n",
      "dtypes: float64(4)\n",
      "memory usage: 256.0 bytes\n"
     ]
    }
   ],
   "source": [
    "# CHECKING THE DATATYPES\n",
    "df.info() # every column is float64"
   ]
  },
  {
   "cell_type": "markdown",
   "metadata": {},
   "source": [
    "***TASK 5***"
   ]
  },
  {
   "cell_type": "code",
   "execution_count": 58,
   "metadata": {},
   "outputs": [
    {
     "data": {
      "text/html": [
       "<div>\n",
       "<style scoped>\n",
       "    .dataframe tbody tr th:only-of-type {\n",
       "        vertical-align: middle;\n",
       "    }\n",
       "\n",
       "    .dataframe tbody tr th {\n",
       "        vertical-align: top;\n",
       "    }\n",
       "\n",
       "    .dataframe thead th {\n",
       "        text-align: right;\n",
       "    }\n",
       "</style>\n",
       "<table border=\"1\" class=\"dataframe\">\n",
       "  <thead>\n",
       "    <tr style=\"text-align: right;\">\n",
       "      <th></th>\n",
       "      <th>Random value 2</th>\n",
       "      <th>Random value 3</th>\n",
       "    </tr>\n",
       "  </thead>\n",
       "  <tbody>\n",
       "    <tr>\n",
       "      <th>0</th>\n",
       "      <td>-0.851024</td>\n",
       "      <td>-0.986893</td>\n",
       "    </tr>\n",
       "    <tr>\n",
       "      <th>1</th>\n",
       "      <td>0.528570</td>\n",
       "      <td>0.836415</td>\n",
       "    </tr>\n",
       "    <tr>\n",
       "      <th>2</th>\n",
       "      <td>1.753324</td>\n",
       "      <td>1.441566</td>\n",
       "    </tr>\n",
       "    <tr>\n",
       "      <th>3</th>\n",
       "      <td>0.035675</td>\n",
       "      <td>0.538033</td>\n",
       "    </tr>\n",
       "  </tbody>\n",
       "</table>\n",
       "</div>"
      ],
      "text/plain": [
       "   Random value 2  Random value 3\n",
       "0       -0.851024       -0.986893\n",
       "1        0.528570        0.836415\n",
       "2        1.753324        1.441566\n",
       "3        0.035675        0.538033"
      ]
     },
     "execution_count": 58,
     "metadata": {},
     "output_type": "execute_result"
    }
   ],
   "source": [
    "# USING LOCATION METHOD\n",
    "df.loc[:,'Random value 2':'Random value 3']\n"
   ]
  },
  {
   "cell_type": "code",
   "execution_count": 59,
   "metadata": {},
   "outputs": [
    {
     "data": {
      "text/html": [
       "<div>\n",
       "<style scoped>\n",
       "    .dataframe tbody tr th:only-of-type {\n",
       "        vertical-align: middle;\n",
       "    }\n",
       "\n",
       "    .dataframe tbody tr th {\n",
       "        vertical-align: top;\n",
       "    }\n",
       "\n",
       "    .dataframe thead th {\n",
       "        text-align: right;\n",
       "    }\n",
       "</style>\n",
       "<table border=\"1\" class=\"dataframe\">\n",
       "  <thead>\n",
       "    <tr style=\"text-align: right;\">\n",
       "      <th></th>\n",
       "      <th>Random value 2</th>\n",
       "      <th>Random value 3</th>\n",
       "    </tr>\n",
       "  </thead>\n",
       "  <tbody>\n",
       "    <tr>\n",
       "      <th>0</th>\n",
       "      <td>-0.851024</td>\n",
       "      <td>-0.986893</td>\n",
       "    </tr>\n",
       "    <tr>\n",
       "      <th>1</th>\n",
       "      <td>0.528570</td>\n",
       "      <td>0.836415</td>\n",
       "    </tr>\n",
       "    <tr>\n",
       "      <th>2</th>\n",
       "      <td>1.753324</td>\n",
       "      <td>1.441566</td>\n",
       "    </tr>\n",
       "    <tr>\n",
       "      <th>3</th>\n",
       "      <td>0.035675</td>\n",
       "      <td>0.538033</td>\n",
       "    </tr>\n",
       "  </tbody>\n",
       "</table>\n",
       "</div>"
      ],
      "text/plain": [
       "   Random value 2  Random value 3\n",
       "0       -0.851024       -0.986893\n",
       "1        0.528570        0.836415\n",
       "2        1.753324        1.441566\n",
       "3        0.035675        0.538033"
      ]
     },
     "execution_count": 59,
     "metadata": {},
     "output_type": "execute_result"
    }
   ],
   "source": [
    "# using INDEX LOCATION METHOD\n",
    "df.iloc[:,1:3]"
   ]
  }
 ],
 "metadata": {
  "kernelspec": {
   "display_name": "Python 3",
   "language": "python",
   "name": "python3"
  },
  "language_info": {
   "codemirror_mode": {
    "name": "ipython",
    "version": 3
   },
   "file_extension": ".py",
   "mimetype": "text/x-python",
   "name": "python",
   "nbconvert_exporter": "python",
   "pygments_lexer": "ipython3",
   "version": "3.10.0"
  },
  "orig_nbformat": 4
 },
 "nbformat": 4,
 "nbformat_minor": 2
}
